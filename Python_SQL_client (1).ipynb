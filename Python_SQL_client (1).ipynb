{
  "nbformat": 4,
  "nbformat_minor": 0,
  "metadata": {
    "language_info": {
      "codemirror_mode": {
        "name": "ipython",
        "version": 3
      },
      "file_extension": ".py",
      "mimetype": "text/x-python",
      "name": "python",
      "nbconvert_exporter": "python",
      "pygments_lexer": "ipython3",
      "version": "3.7.9-final"
    },
    "orig_nbformat": 2,
    "kernelspec": {
      "name": "python3",
      "display_name": "Python 3.7.9 64-bit ('myenv': conda)",
      "metadata": {
        "interpreter": {
          "hash": "e97c287c42fc132257d90817e70d575c21da4b0dc09cc4a58070612fae18e2e2"
        }
      }
    },
    "colab": {
      "name": "Python SQL client.ipynb",
      "provenance": [],
      "collapsed_sections": [
        "wGHrWiwo5u-O",
        "Cfxof42T5u-Q",
        "cuStYKPh5u-S",
        "oE0eH2cJ5u-W",
        "SSSoxMIH5u-U"
      ]
    }
  },
  "cells": [
    {
      "cell_type": "markdown",
      "metadata": {
        "id": "Gf6M7yvP6prb"
      },
      "source": [
        "[Original file](https://colab.research.google.com/drive/1Lk1YtZkTgRYwNvBaGCMdbgwEnOhBpaYe?usp=sharing) created at Praxis Business school"
      ]
    },
    {
      "cell_type": "markdown",
      "metadata": {
        "id": "72kQ8qVt5u-N"
      },
      "source": [
        "# Setup"
      ]
    },
    {
      "cell_type": "markdown",
      "metadata": {
        "id": "wGHrWiwo5u-O"
      },
      "source": [
        "## Initiation:\n"
      ]
    },
    {
      "cell_type": "code",
      "metadata": {
        "id": "IhrrKz-E50sA"
      },
      "source": [
        "!pip install mysqlclient > /dev/null\r\n",
        "\r\n",
        "import pandas as pd\r\n",
        "import MySQLdb"
      ],
      "execution_count": 4,
      "outputs": []
    },
    {
      "cell_type": "markdown",
      "metadata": {
        "id": "Cfxof42T5u-Q"
      },
      "source": [
        "## Credentials"
      ]
    },
    {
      "cell_type": "code",
      "metadata": {
        "id": "D5Z_rv4C5u-R"
      },
      "source": [
        "hostName = 'remotemysql.com'   # place your own credentials here\n",
        "userName = 'UDReedbczU'      # place your own credentials here\n",
        "passWord = 'EzCB9vazqz'      # place your own credentials here\n",
        "dbName =  'UDReedbczU'         # place your own credentials here"
      ],
      "execution_count": 5,
      "outputs": []
    },
    {
      "cell_type": "markdown",
      "metadata": {
        "id": "cuStYKPh5u-S"
      },
      "source": [
        "## Connecting to DB"
      ]
    },
    {
      "cell_type": "code",
      "metadata": {
        "id": "HfYUjrWG5u-S"
      },
      "source": [
        "DBConn= MySQLdb.connect(hostName,userName,passWord,dbName)"
      ],
      "execution_count": 6,
      "outputs": []
    },
    {
      "cell_type": "markdown",
      "metadata": {
        "id": "xOiS-t1o5u-T"
      },
      "source": [
        "# Access_methods"
      ]
    },
    {
      "cell_type": "code",
      "metadata": {
        "id": "8-LD_u1M5u-T"
      },
      "source": [
        "#To run any non-SELECT SQL command\n",
        "def runCMD (DDL):\n",
        "    DBConn= MySQLdb.connect(hostName,userName,passWord,dbName)\n",
        "    myCursor = DBConn.cursor()\n",
        "    retcode = myCursor.execute(DDL) \n",
        "    print (retcode)\n",
        "    DBConn.commit()\n",
        "    DBConn.close()"
      ],
      "execution_count": 7,
      "outputs": []
    },
    {
      "cell_type": "code",
      "metadata": {
        "id": "nWv4JGzM5u-T"
      },
      "source": [
        "#To run SELECT command\n",
        "def runSELECT (CMD):\n",
        "    DBConn= MySQLdb.connect(hostName,userName,passWord,dbName)\n",
        "    df_mysql = pd.read_sql(CMD, con=DBConn)    \n",
        "    DBConn.close()\n",
        "    return df_mysql"
      ],
      "execution_count": 8,
      "outputs": []
    },
    {
      "cell_type": "code",
      "metadata": {
        "id": "-AVqFbzW7m1_"
      },
      "source": [
        "def r(message):\r\n",
        "    if message[0:6] == 'SELECT':\r\n",
        "      return runSELECT(message)\r\n",
        "    else:\r\n",
        "      return runCMD(message)  "
      ],
      "execution_count": 33,
      "outputs": []
    },
    {
      "cell_type": "markdown",
      "metadata": {
        "id": "q7bZnH-V5u-U"
      },
      "source": [
        "# Data_instantiation"
      ]
    },
    {
      "cell_type": "markdown",
      "metadata": {
        "id": "oE0eH2cJ5u-W"
      },
      "source": [
        "## Emp and Dept"
      ]
    },
    {
      "cell_type": "code",
      "metadata": {
        "colab": {
          "base_uri": "https://localhost:8080/"
        },
        "id": "aD5sp8j95u-W",
        "outputId": "7dc4d8cb-b774-4168-e78a-b39fffbe0daa"
      },
      "source": [
        "r(\"DROP TABLE IF EXISTS Dept;\")\n",
        "r(\"CREATE TABLE Dept ( \\\n",
        "DeptID char(2)  NOT NULL, \\\n",
        "DeptName varchar(50) , \\\n",
        "ManagerID char(6) , \\\n",
        "Location varchar(50) \\\n",
        ");\")\n",
        "\n",
        "r(\"INSERT INTO Dept (DeptID, DeptName, ManagerID, Location) VALUES \\\n",
        "('10', 'Corporate', '299034', 'Calcutta'), \\\n",
        "('20', 'Sales', '239456', 'Calcutta'), \\\n",
        "('30', 'Accounts', '822134', 'Calcutta'), \\\n",
        "('40', 'Production', '349870', 'Bombay');\")\n",
        "r(\"DROP TABLE IF EXISTS Emp;\")\n",
        "r(\"CREATE TABLE IF NOT EXISTS Emp ( \\\n",
        "EmpID char(6)  NOT NULL, \\\n",
        "LastName varchar(50) , \\\n",
        "FirstName varchar(50) , \\\n",
        "JobDesc varchar(50) , \\\n",
        "JoinDate date NOT NULL, \\\n",
        "Salary int(11) , \\\n",
        "Comm float , \\\n",
        "DeptID char(2) \\\n",
        ") ;\")\n",
        "r(\"INSERT INTO Emp (EmpID, LastName, FirstName, JobDesc, JoinDate, Salary, Comm, DeptID) \\\n",
        "VALUES \\\n",
        "('742866', 'Bacchan', 'Amitabh', 'Executive', '2003-03-10', 50000, 0.1, '10'), \\\n",
        "('349870', 'Mukherjee', 'Rani', 'Manager', '2005-05-04', 25000, 0.06, '40'), \\\n",
        "('865477', 'Dikshit', 'Madhuri', 'Clerk', '2002-04-04', 10000, 0.02, '20'), \\\n",
        "('239456', 'Khan', 'Shahrukh', 'Manager', '2004-01-03', 30000, 0.07, '20'), \\\n",
        "('897889', 'Sehwag', 'Virender', 'Cus_Rep', '2005-01-02', 15000, 0.05, '20'), \\\n",
        "('123980', 'Dhoni', 'Mahender', 'Clerk', '2004-10-09', 9000, 0.02, '40'), \\\n",
        "('822134', 'Dravid', 'Rahul', 'Sr Manager', '2000-06-04', 40000, 0.08, '30'), \\\n",
        "('997445', 'Dalmia', 'Jagmohan', 'Clerk', '2001-07-01', 12000, 0.02, '30'), \\\n",
        "('989007', 'Ganguly', 'Sourav', 'Cus_Rep', '2002-01-01', 20000, 0.03, '40'), \\\n",
        "('299034', 'Ganesan', 'Rekha', 'Director', '2002-10-10', 60000, 0.11, '10'), \\\n",
        "('546223', 'Karthikeyan', 'Narayan', 'Secretary', '2005-12-04', 40000, 0.09, '10'), \\\n",
        "('223112', 'Mirza', 'Sania', 'Cus_Rep', '2001-11-19', 25000, 0.04, '30');\"\n",
        ") "
      ],
      "execution_count": 16,
      "outputs": [
        {
          "output_type": "stream",
          "text": [
            "0\n",
            "0\n",
            "4\n",
            "0\n",
            "0\n",
            "12\n"
          ],
          "name": "stdout"
        }
      ]
    },
    {
      "cell_type": "markdown",
      "metadata": {
        "id": "SSSoxMIH5u-U"
      },
      "source": [
        "## Emp2 and Dept2"
      ]
    },
    {
      "cell_type": "code",
      "metadata": {
        "colab": {
          "base_uri": "https://localhost:8080/"
        },
        "id": "KA9BQfZ95u-U",
        "outputId": "7c48640f-0153-491f-dc4d-7886e0d9d728"
      },
      "source": [
        "r(\"DROP TABLE IF EXISTS Emp2;\")\n",
        "r(\"CREATE TABLE IF NOT EXISTS Emp2 ( \\\n",
        "  EmpID char(6)  NOT NULL, \\\n",
        "  LastName varchar(50) , \\\n",
        "  FirstName varchar(50) , \\\n",
        "  JobDesc varchar(50) , \\\n",
        "  JoinDate date NOT NULL, \\\n",
        "  Salary int(11) , \\\n",
        "  Comm float , \\\n",
        "  DeptID char(2) \\\n",
        ") ;\")\n",
        "r(\"INSERT INTO Emp2 (EmpID, LastName, FirstName, JobDesc, JoinDate, Salary, Comm, DeptID) VALUES \\\n",
        "\t('742866', 'Bacchan', 'Amitabh', 'Executive', '2003-03-10', 50000, 0.10, '10'), \\\n",
        "\t('349870', 'Mukherjee', 'Rani', 'Manager', '2005-05-04', 25000, 0.06, '40'), \\\n",
        "\t('865477', 'Dikshit', 'Madhuri', 'Clerk', '2002-04-04', 10000, 0.02, '20'), \\\n",
        "\t('239456', 'Khan', 'Shahrukh', 'Manager', '2004-01-03', 30000, 0.07, '20'), \\\n",
        "\t('897889', 'Sehwag', 'Virender', 'Cus_Rep', '2005-01-02', 15000, 0.05, '20'), \\\n",
        "\t('123980', 'Dhoni', 'Mahender', 'Clerk', '2004-10-09', 9000, 0.02, '40'), \\\n",
        "\t('822134', 'Dravid', 'Rahul', 'Sr Manager', '2000-06-04', 40000, 0.08, '30'), \\\n",
        "\t('997445', 'Dalmia', 'Jagmohan', 'Clerk', '2001-07-01', 12000, 0.02, '30'), \\\n",
        "\t('989007', 'Ganguly', 'Sourav', 'Cus_Rep', '2002-01-01', 20000, 0.03, '40'), \\\n",
        "\t('299034', 'Ganesan', 'Rekha', 'Director', '2002-10-10', 60000, 0.11, '10'), \\\n",
        "\t('546223', 'Karthikeyan', 'Narayan', 'Secretary', '2005-12-04', 40000, 0.09, '50'), \\\n",
        "\t('223112', 'Mirza', 'Sania', 'Cus_Rep', '2001-11-19', 25000, 0.04, '30');\")\n",
        "\n",
        "r(\"DROP TABLE IF EXISTS Dept2;\")\n",
        "r(\"CREATE TABLE Dept2 ( \\\n",
        "  DeptID char(2)  NOT NULL, \\\n",
        "  DeptName varchar(50) , \\\n",
        "  ManagerID char(6) , \\\n",
        "  Location varchar(50) \\\n",
        " );\")\n",
        "r(\"INSERT INTO Dept2 (DeptID, DeptName, ManagerID, Location) VALUES \\\n",
        "\t('10', 'Corporate', '299034', 'Calcutta'), \\\n",
        "\t('20', 'Sales', '239456', 'Calcutta'), \\\n",
        "\t('30', 'Accounts', '822134', 'Calcutta'), \\\n",
        "\t('70', 'Production', '349870', 'Bombay');\")"
      ],
      "execution_count": 68,
      "outputs": [
        {
          "output_type": "stream",
          "text": [
            "0\n",
            "0\n",
            "12\n",
            "0\n",
            "0\n",
            "4\n"
          ],
          "name": "stdout"
        }
      ]
    },
    {
      "cell_type": "markdown",
      "metadata": {
        "id": "t8_mPBOK6-jB"
      },
      "source": [
        "# Execution"
      ]
    },
    {
      "cell_type": "code",
      "metadata": {
        "id": "-2wau6m77IlC",
        "colab": {
          "base_uri": "https://localhost:8080/",
          "height": 142
        },
        "outputId": "dea82628-088a-4b2c-89b9-915f8d481a22"
      },
      "source": [
        "# SELECT *\r\n",
        "r('SELECT * FROM Emp LIMIT 3') "
      ],
      "execution_count": 86,
      "outputs": [
        {
          "output_type": "execute_result",
          "data": {
            "text/html": [
              "<div>\n",
              "<style scoped>\n",
              "    .dataframe tbody tr th:only-of-type {\n",
              "        vertical-align: middle;\n",
              "    }\n",
              "\n",
              "    .dataframe tbody tr th {\n",
              "        vertical-align: top;\n",
              "    }\n",
              "\n",
              "    .dataframe thead th {\n",
              "        text-align: right;\n",
              "    }\n",
              "</style>\n",
              "<table border=\"1\" class=\"dataframe\">\n",
              "  <thead>\n",
              "    <tr style=\"text-align: right;\">\n",
              "      <th></th>\n",
              "      <th>EmpID</th>\n",
              "      <th>LastName</th>\n",
              "      <th>FirstName</th>\n",
              "      <th>JobDesc</th>\n",
              "      <th>JoinDate</th>\n",
              "      <th>Salary</th>\n",
              "      <th>Comm</th>\n",
              "      <th>DeptID</th>\n",
              "    </tr>\n",
              "  </thead>\n",
              "  <tbody>\n",
              "    <tr>\n",
              "      <th>0</th>\n",
              "      <td>742866</td>\n",
              "      <td>Bacchan</td>\n",
              "      <td>Amitabh</td>\n",
              "      <td>Executive</td>\n",
              "      <td>2003-03-10</td>\n",
              "      <td>50000</td>\n",
              "      <td>0.10</td>\n",
              "      <td>10</td>\n",
              "    </tr>\n",
              "    <tr>\n",
              "      <th>1</th>\n",
              "      <td>349870</td>\n",
              "      <td>Mukherjee</td>\n",
              "      <td>Rani</td>\n",
              "      <td>Manager</td>\n",
              "      <td>2005-05-04</td>\n",
              "      <td>25000</td>\n",
              "      <td>0.06</td>\n",
              "      <td>40</td>\n",
              "    </tr>\n",
              "    <tr>\n",
              "      <th>2</th>\n",
              "      <td>865477</td>\n",
              "      <td>Dikshit</td>\n",
              "      <td>Madhuri</td>\n",
              "      <td>Clerk</td>\n",
              "      <td>2002-04-04</td>\n",
              "      <td>10000</td>\n",
              "      <td>0.02</td>\n",
              "      <td>20</td>\n",
              "    </tr>\n",
              "  </tbody>\n",
              "</table>\n",
              "</div>"
            ],
            "text/plain": [
              "    EmpID   LastName FirstName    JobDesc    JoinDate  Salary  Comm DeptID\n",
              "0  742866    Bacchan   Amitabh  Executive  2003-03-10   50000  0.10     10\n",
              "1  349870  Mukherjee      Rani    Manager  2005-05-04   25000  0.06     40\n",
              "2  865477    Dikshit   Madhuri      Clerk  2002-04-04   10000  0.02     20"
            ]
          },
          "metadata": {
            "tags": []
          },
          "execution_count": 86
        }
      ]
    },
    {
      "cell_type": "code",
      "metadata": {
        "colab": {
          "base_uri": "https://localhost:8080/",
          "height": 142
        },
        "id": "gAsjlsrT92K8",
        "outputId": "7e0d67d4-8389-4d69-ce86-39816145de84"
      },
      "source": [
        "# SELECT columns\r\n",
        "r('SELECT EmpID, FirstName, LastName FROM Emp LIMIT 3')"
      ],
      "execution_count": 38,
      "outputs": [
        {
          "output_type": "execute_result",
          "data": {
            "text/html": [
              "<div>\n",
              "<style scoped>\n",
              "    .dataframe tbody tr th:only-of-type {\n",
              "        vertical-align: middle;\n",
              "    }\n",
              "\n",
              "    .dataframe tbody tr th {\n",
              "        vertical-align: top;\n",
              "    }\n",
              "\n",
              "    .dataframe thead th {\n",
              "        text-align: right;\n",
              "    }\n",
              "</style>\n",
              "<table border=\"1\" class=\"dataframe\">\n",
              "  <thead>\n",
              "    <tr style=\"text-align: right;\">\n",
              "      <th></th>\n",
              "      <th>EmpID</th>\n",
              "      <th>FirstName</th>\n",
              "      <th>LastName</th>\n",
              "    </tr>\n",
              "  </thead>\n",
              "  <tbody>\n",
              "    <tr>\n",
              "      <th>0</th>\n",
              "      <td>742866</td>\n",
              "      <td>Amitabh</td>\n",
              "      <td>Bacchan</td>\n",
              "    </tr>\n",
              "    <tr>\n",
              "      <th>1</th>\n",
              "      <td>349870</td>\n",
              "      <td>Rani</td>\n",
              "      <td>Mukherjee</td>\n",
              "    </tr>\n",
              "    <tr>\n",
              "      <th>2</th>\n",
              "      <td>865477</td>\n",
              "      <td>Madhuri</td>\n",
              "      <td>Dikshit</td>\n",
              "    </tr>\n",
              "  </tbody>\n",
              "</table>\n",
              "</div>"
            ],
            "text/plain": [
              "    EmpID FirstName   LastName\n",
              "0  742866   Amitabh    Bacchan\n",
              "1  349870      Rani  Mukherjee\n",
              "2  865477   Madhuri    Dikshit"
            ]
          },
          "metadata": {
            "tags": []
          },
          "execution_count": 38
        }
      ]
    },
    {
      "cell_type": "code",
      "metadata": {
        "colab": {
          "base_uri": "https://localhost:8080/",
          "height": 421
        },
        "id": "WaV2DBz5_rgM",
        "outputId": "b0ea7627-a380-471d-93e7-da8de4976fce"
      },
      "source": [
        "# SELECT columns with OR condition\r\n",
        "r('SELECT EmpID, FirstName, LastName,Salary, JobDesc FROM Emp WHERE Salary>=10000 OR JobDesc=\"Clerk\"')"
      ],
      "execution_count": 116,
      "outputs": [
        {
          "output_type": "execute_result",
          "data": {
            "text/html": [
              "<div>\n",
              "<style scoped>\n",
              "    .dataframe tbody tr th:only-of-type {\n",
              "        vertical-align: middle;\n",
              "    }\n",
              "\n",
              "    .dataframe tbody tr th {\n",
              "        vertical-align: top;\n",
              "    }\n",
              "\n",
              "    .dataframe thead th {\n",
              "        text-align: right;\n",
              "    }\n",
              "</style>\n",
              "<table border=\"1\" class=\"dataframe\">\n",
              "  <thead>\n",
              "    <tr style=\"text-align: right;\">\n",
              "      <th></th>\n",
              "      <th>EmpID</th>\n",
              "      <th>FirstName</th>\n",
              "      <th>LastName</th>\n",
              "      <th>Salary</th>\n",
              "      <th>JobDesc</th>\n",
              "    </tr>\n",
              "  </thead>\n",
              "  <tbody>\n",
              "    <tr>\n",
              "      <th>0</th>\n",
              "      <td>742866</td>\n",
              "      <td>Amitabh</td>\n",
              "      <td>Bacchan</td>\n",
              "      <td>50000</td>\n",
              "      <td>Executive</td>\n",
              "    </tr>\n",
              "    <tr>\n",
              "      <th>1</th>\n",
              "      <td>349870</td>\n",
              "      <td>Rani</td>\n",
              "      <td>Mukherjee</td>\n",
              "      <td>25000</td>\n",
              "      <td>Manager</td>\n",
              "    </tr>\n",
              "    <tr>\n",
              "      <th>2</th>\n",
              "      <td>865477</td>\n",
              "      <td>Madhuri</td>\n",
              "      <td>Dikshit</td>\n",
              "      <td>10000</td>\n",
              "      <td>Clerk</td>\n",
              "    </tr>\n",
              "    <tr>\n",
              "      <th>3</th>\n",
              "      <td>239456</td>\n",
              "      <td>Shahrukh</td>\n",
              "      <td>Khan</td>\n",
              "      <td>30000</td>\n",
              "      <td>Manager</td>\n",
              "    </tr>\n",
              "    <tr>\n",
              "      <th>4</th>\n",
              "      <td>897889</td>\n",
              "      <td>Virender</td>\n",
              "      <td>Sehwag</td>\n",
              "      <td>15000</td>\n",
              "      <td>Cus_Rep</td>\n",
              "    </tr>\n",
              "    <tr>\n",
              "      <th>5</th>\n",
              "      <td>123980</td>\n",
              "      <td>Mahender</td>\n",
              "      <td>Dhoni</td>\n",
              "      <td>9000</td>\n",
              "      <td>Clerk</td>\n",
              "    </tr>\n",
              "    <tr>\n",
              "      <th>6</th>\n",
              "      <td>822134</td>\n",
              "      <td>Rahul</td>\n",
              "      <td>Dravid</td>\n",
              "      <td>40000</td>\n",
              "      <td>Sr Manager</td>\n",
              "    </tr>\n",
              "    <tr>\n",
              "      <th>7</th>\n",
              "      <td>997445</td>\n",
              "      <td>Jagmohan</td>\n",
              "      <td>Dalmia</td>\n",
              "      <td>12000</td>\n",
              "      <td>Clerk</td>\n",
              "    </tr>\n",
              "    <tr>\n",
              "      <th>8</th>\n",
              "      <td>989007</td>\n",
              "      <td>Sourav</td>\n",
              "      <td>Ganguly</td>\n",
              "      <td>20000</td>\n",
              "      <td>Cus_Rep</td>\n",
              "    </tr>\n",
              "    <tr>\n",
              "      <th>9</th>\n",
              "      <td>299034</td>\n",
              "      <td>Rekha</td>\n",
              "      <td>Ganesan</td>\n",
              "      <td>60000</td>\n",
              "      <td>Director</td>\n",
              "    </tr>\n",
              "    <tr>\n",
              "      <th>10</th>\n",
              "      <td>546223</td>\n",
              "      <td>Narayan</td>\n",
              "      <td>Karthikeyan</td>\n",
              "      <td>40000</td>\n",
              "      <td>Secretary</td>\n",
              "    </tr>\n",
              "    <tr>\n",
              "      <th>11</th>\n",
              "      <td>223112</td>\n",
              "      <td>Sania</td>\n",
              "      <td>Mirza</td>\n",
              "      <td>25000</td>\n",
              "      <td>Cus_Rep</td>\n",
              "    </tr>\n",
              "  </tbody>\n",
              "</table>\n",
              "</div>"
            ],
            "text/plain": [
              "     EmpID FirstName     LastName  Salary     JobDesc\n",
              "0   742866   Amitabh      Bacchan   50000   Executive\n",
              "1   349870      Rani    Mukherjee   25000     Manager\n",
              "2   865477   Madhuri      Dikshit   10000       Clerk\n",
              "3   239456  Shahrukh         Khan   30000     Manager\n",
              "4   897889  Virender       Sehwag   15000     Cus_Rep\n",
              "5   123980  Mahender        Dhoni    9000       Clerk\n",
              "6   822134     Rahul       Dravid   40000  Sr Manager\n",
              "7   997445  Jagmohan       Dalmia   12000       Clerk\n",
              "8   989007    Sourav      Ganguly   20000     Cus_Rep\n",
              "9   299034     Rekha      Ganesan   60000    Director\n",
              "10  546223   Narayan  Karthikeyan   40000   Secretary\n",
              "11  223112     Sania        Mirza   25000     Cus_Rep"
            ]
          },
          "metadata": {
            "tags": []
          },
          "execution_count": 116
        }
      ]
    },
    {
      "cell_type": "code",
      "metadata": {
        "colab": {
          "base_uri": "https://localhost:8080/",
          "height": 111
        },
        "id": "QVsgpzAzMOaP",
        "outputId": "99fee558-be24-4682-c267-82930f9fbbaf"
      },
      "source": [
        "# SELECT columns with AND condition\r\n",
        "r('SELECT EmpID, FirstName, LastName,Salary,JobDesc FROM Emp WHERE Salary>=10000 AND JobDesc=\"Clerk\"')"
      ],
      "execution_count": 117,
      "outputs": [
        {
          "output_type": "execute_result",
          "data": {
            "text/html": [
              "<div>\n",
              "<style scoped>\n",
              "    .dataframe tbody tr th:only-of-type {\n",
              "        vertical-align: middle;\n",
              "    }\n",
              "\n",
              "    .dataframe tbody tr th {\n",
              "        vertical-align: top;\n",
              "    }\n",
              "\n",
              "    .dataframe thead th {\n",
              "        text-align: right;\n",
              "    }\n",
              "</style>\n",
              "<table border=\"1\" class=\"dataframe\">\n",
              "  <thead>\n",
              "    <tr style=\"text-align: right;\">\n",
              "      <th></th>\n",
              "      <th>EmpID</th>\n",
              "      <th>FirstName</th>\n",
              "      <th>LastName</th>\n",
              "      <th>Salary</th>\n",
              "      <th>JobDesc</th>\n",
              "    </tr>\n",
              "  </thead>\n",
              "  <tbody>\n",
              "    <tr>\n",
              "      <th>0</th>\n",
              "      <td>865477</td>\n",
              "      <td>Madhuri</td>\n",
              "      <td>Dikshit</td>\n",
              "      <td>10000</td>\n",
              "      <td>Clerk</td>\n",
              "    </tr>\n",
              "    <tr>\n",
              "      <th>1</th>\n",
              "      <td>997445</td>\n",
              "      <td>Jagmohan</td>\n",
              "      <td>Dalmia</td>\n",
              "      <td>12000</td>\n",
              "      <td>Clerk</td>\n",
              "    </tr>\n",
              "  </tbody>\n",
              "</table>\n",
              "</div>"
            ],
            "text/plain": [
              "    EmpID FirstName LastName  Salary JobDesc\n",
              "0  865477   Madhuri  Dikshit   10000   Clerk\n",
              "1  997445  Jagmohan   Dalmia   12000   Clerk"
            ]
          },
          "metadata": {
            "tags": []
          },
          "execution_count": 117
        }
      ]
    },
    {
      "cell_type": "code",
      "metadata": {
        "colab": {
          "base_uri": "https://localhost:8080/",
          "height": 421
        },
        "id": "LXNmWGeqMXTc",
        "outputId": "95a151d8-e363-4de6-a9c8-bac3e3969cdd"
      },
      "source": [
        "r('SELECT * FROM Emp')"
      ],
      "execution_count": 112,
      "outputs": [
        {
          "output_type": "execute_result",
          "data": {
            "text/html": [
              "<div>\n",
              "<style scoped>\n",
              "    .dataframe tbody tr th:only-of-type {\n",
              "        vertical-align: middle;\n",
              "    }\n",
              "\n",
              "    .dataframe tbody tr th {\n",
              "        vertical-align: top;\n",
              "    }\n",
              "\n",
              "    .dataframe thead th {\n",
              "        text-align: right;\n",
              "    }\n",
              "</style>\n",
              "<table border=\"1\" class=\"dataframe\">\n",
              "  <thead>\n",
              "    <tr style=\"text-align: right;\">\n",
              "      <th></th>\n",
              "      <th>EmpID</th>\n",
              "      <th>LastName</th>\n",
              "      <th>FirstName</th>\n",
              "      <th>JobDesc</th>\n",
              "      <th>JoinDate</th>\n",
              "      <th>Salary</th>\n",
              "      <th>Comm</th>\n",
              "      <th>DeptID</th>\n",
              "    </tr>\n",
              "  </thead>\n",
              "  <tbody>\n",
              "    <tr>\n",
              "      <th>0</th>\n",
              "      <td>742866</td>\n",
              "      <td>Bacchan</td>\n",
              "      <td>Amitabh</td>\n",
              "      <td>Executive</td>\n",
              "      <td>2003-03-10</td>\n",
              "      <td>50000</td>\n",
              "      <td>0.10</td>\n",
              "      <td>10</td>\n",
              "    </tr>\n",
              "    <tr>\n",
              "      <th>1</th>\n",
              "      <td>349870</td>\n",
              "      <td>Mukherjee</td>\n",
              "      <td>Rani</td>\n",
              "      <td>Manager</td>\n",
              "      <td>2005-05-04</td>\n",
              "      <td>25000</td>\n",
              "      <td>0.06</td>\n",
              "      <td>40</td>\n",
              "    </tr>\n",
              "    <tr>\n",
              "      <th>2</th>\n",
              "      <td>865477</td>\n",
              "      <td>Dikshit</td>\n",
              "      <td>Madhuri</td>\n",
              "      <td>Clerk</td>\n",
              "      <td>2002-04-04</td>\n",
              "      <td>10000</td>\n",
              "      <td>0.02</td>\n",
              "      <td>20</td>\n",
              "    </tr>\n",
              "    <tr>\n",
              "      <th>3</th>\n",
              "      <td>239456</td>\n",
              "      <td>Khan</td>\n",
              "      <td>Shahrukh</td>\n",
              "      <td>Manager</td>\n",
              "      <td>2004-01-03</td>\n",
              "      <td>30000</td>\n",
              "      <td>0.07</td>\n",
              "      <td>20</td>\n",
              "    </tr>\n",
              "    <tr>\n",
              "      <th>4</th>\n",
              "      <td>897889</td>\n",
              "      <td>Sehwag</td>\n",
              "      <td>Virender</td>\n",
              "      <td>Cus_Rep</td>\n",
              "      <td>2005-01-02</td>\n",
              "      <td>15000</td>\n",
              "      <td>0.05</td>\n",
              "      <td>20</td>\n",
              "    </tr>\n",
              "    <tr>\n",
              "      <th>5</th>\n",
              "      <td>123980</td>\n",
              "      <td>Dhoni</td>\n",
              "      <td>Mahender</td>\n",
              "      <td>Clerk</td>\n",
              "      <td>2004-10-09</td>\n",
              "      <td>9000</td>\n",
              "      <td>0.02</td>\n",
              "      <td>40</td>\n",
              "    </tr>\n",
              "    <tr>\n",
              "      <th>6</th>\n",
              "      <td>822134</td>\n",
              "      <td>Dravid</td>\n",
              "      <td>Rahul</td>\n",
              "      <td>Sr Manager</td>\n",
              "      <td>2000-06-04</td>\n",
              "      <td>40000</td>\n",
              "      <td>0.08</td>\n",
              "      <td>30</td>\n",
              "    </tr>\n",
              "    <tr>\n",
              "      <th>7</th>\n",
              "      <td>997445</td>\n",
              "      <td>Dalmia</td>\n",
              "      <td>Jagmohan</td>\n",
              "      <td>Clerk</td>\n",
              "      <td>2001-07-01</td>\n",
              "      <td>12000</td>\n",
              "      <td>0.02</td>\n",
              "      <td>30</td>\n",
              "    </tr>\n",
              "    <tr>\n",
              "      <th>8</th>\n",
              "      <td>989007</td>\n",
              "      <td>Ganguly</td>\n",
              "      <td>Sourav</td>\n",
              "      <td>Cus_Rep</td>\n",
              "      <td>2002-01-01</td>\n",
              "      <td>20000</td>\n",
              "      <td>0.03</td>\n",
              "      <td>40</td>\n",
              "    </tr>\n",
              "    <tr>\n",
              "      <th>9</th>\n",
              "      <td>299034</td>\n",
              "      <td>Ganesan</td>\n",
              "      <td>Rekha</td>\n",
              "      <td>Director</td>\n",
              "      <td>2002-10-10</td>\n",
              "      <td>60000</td>\n",
              "      <td>0.11</td>\n",
              "      <td>10</td>\n",
              "    </tr>\n",
              "    <tr>\n",
              "      <th>10</th>\n",
              "      <td>546223</td>\n",
              "      <td>Karthikeyan</td>\n",
              "      <td>Narayan</td>\n",
              "      <td>Secretary</td>\n",
              "      <td>2005-12-04</td>\n",
              "      <td>40000</td>\n",
              "      <td>0.09</td>\n",
              "      <td>10</td>\n",
              "    </tr>\n",
              "    <tr>\n",
              "      <th>11</th>\n",
              "      <td>223112</td>\n",
              "      <td>Mirza</td>\n",
              "      <td>Sania</td>\n",
              "      <td>Cus_Rep</td>\n",
              "      <td>2001-11-19</td>\n",
              "      <td>25000</td>\n",
              "      <td>0.04</td>\n",
              "      <td>30</td>\n",
              "    </tr>\n",
              "  </tbody>\n",
              "</table>\n",
              "</div>"
            ],
            "text/plain": [
              "     EmpID     LastName FirstName     JobDesc    JoinDate  Salary  Comm DeptID\n",
              "0   742866      Bacchan   Amitabh   Executive  2003-03-10   50000  0.10     10\n",
              "1   349870    Mukherjee      Rani     Manager  2005-05-04   25000  0.06     40\n",
              "2   865477      Dikshit   Madhuri       Clerk  2002-04-04   10000  0.02     20\n",
              "3   239456         Khan  Shahrukh     Manager  2004-01-03   30000  0.07     20\n",
              "4   897889       Sehwag  Virender     Cus_Rep  2005-01-02   15000  0.05     20\n",
              "5   123980        Dhoni  Mahender       Clerk  2004-10-09    9000  0.02     40\n",
              "6   822134       Dravid     Rahul  Sr Manager  2000-06-04   40000  0.08     30\n",
              "7   997445       Dalmia  Jagmohan       Clerk  2001-07-01   12000  0.02     30\n",
              "8   989007      Ganguly    Sourav     Cus_Rep  2002-01-01   20000  0.03     40\n",
              "9   299034      Ganesan     Rekha    Director  2002-10-10   60000  0.11     10\n",
              "10  546223  Karthikeyan   Narayan   Secretary  2005-12-04   40000  0.09     10\n",
              "11  223112        Mirza     Sania     Cus_Rep  2001-11-19   25000  0.04     30"
            ]
          },
          "metadata": {
            "tags": []
          },
          "execution_count": 112
        }
      ]
    },
    {
      "cell_type": "code",
      "metadata": {
        "colab": {
          "base_uri": "https://localhost:8080/",
          "height": 421
        },
        "id": "vXjWJCwOAVAU",
        "outputId": "b1a5e8cc-f0a1-4190-8938-7e10de75b1d8"
      },
      "source": [
        "# SELECT with JOIN\r\n",
        "r('SELECT t1.EmpID, t1.FirstName, t1.LastName, t2.DeptName FROM Emp as t1 JOIN Dept as t2 ON t1.DeptID=t2.DeptID')"
      ],
      "execution_count": 106,
      "outputs": [
        {
          "output_type": "execute_result",
          "data": {
            "text/html": [
              "<div>\n",
              "<style scoped>\n",
              "    .dataframe tbody tr th:only-of-type {\n",
              "        vertical-align: middle;\n",
              "    }\n",
              "\n",
              "    .dataframe tbody tr th {\n",
              "        vertical-align: top;\n",
              "    }\n",
              "\n",
              "    .dataframe thead th {\n",
              "        text-align: right;\n",
              "    }\n",
              "</style>\n",
              "<table border=\"1\" class=\"dataframe\">\n",
              "  <thead>\n",
              "    <tr style=\"text-align: right;\">\n",
              "      <th></th>\n",
              "      <th>EmpID</th>\n",
              "      <th>FirstName</th>\n",
              "      <th>LastName</th>\n",
              "      <th>DeptName</th>\n",
              "    </tr>\n",
              "  </thead>\n",
              "  <tbody>\n",
              "    <tr>\n",
              "      <th>0</th>\n",
              "      <td>742866</td>\n",
              "      <td>Amitabh</td>\n",
              "      <td>Bacchan</td>\n",
              "      <td>Corporate</td>\n",
              "    </tr>\n",
              "    <tr>\n",
              "      <th>1</th>\n",
              "      <td>349870</td>\n",
              "      <td>Rani</td>\n",
              "      <td>Mukherjee</td>\n",
              "      <td>Production</td>\n",
              "    </tr>\n",
              "    <tr>\n",
              "      <th>2</th>\n",
              "      <td>865477</td>\n",
              "      <td>Madhuri</td>\n",
              "      <td>Dikshit</td>\n",
              "      <td>Sales</td>\n",
              "    </tr>\n",
              "    <tr>\n",
              "      <th>3</th>\n",
              "      <td>239456</td>\n",
              "      <td>Shahrukh</td>\n",
              "      <td>Khan</td>\n",
              "      <td>Sales</td>\n",
              "    </tr>\n",
              "    <tr>\n",
              "      <th>4</th>\n",
              "      <td>897889</td>\n",
              "      <td>Virender</td>\n",
              "      <td>Sehwag</td>\n",
              "      <td>Sales</td>\n",
              "    </tr>\n",
              "    <tr>\n",
              "      <th>5</th>\n",
              "      <td>123980</td>\n",
              "      <td>Mahender</td>\n",
              "      <td>Dhoni</td>\n",
              "      <td>Production</td>\n",
              "    </tr>\n",
              "    <tr>\n",
              "      <th>6</th>\n",
              "      <td>822134</td>\n",
              "      <td>Rahul</td>\n",
              "      <td>Dravid</td>\n",
              "      <td>Accounts</td>\n",
              "    </tr>\n",
              "    <tr>\n",
              "      <th>7</th>\n",
              "      <td>997445</td>\n",
              "      <td>Jagmohan</td>\n",
              "      <td>Dalmia</td>\n",
              "      <td>Accounts</td>\n",
              "    </tr>\n",
              "    <tr>\n",
              "      <th>8</th>\n",
              "      <td>989007</td>\n",
              "      <td>Sourav</td>\n",
              "      <td>Ganguly</td>\n",
              "      <td>Production</td>\n",
              "    </tr>\n",
              "    <tr>\n",
              "      <th>9</th>\n",
              "      <td>299034</td>\n",
              "      <td>Rekha</td>\n",
              "      <td>Ganesan</td>\n",
              "      <td>Corporate</td>\n",
              "    </tr>\n",
              "    <tr>\n",
              "      <th>10</th>\n",
              "      <td>546223</td>\n",
              "      <td>Narayan</td>\n",
              "      <td>Karthikeyan</td>\n",
              "      <td>Corporate</td>\n",
              "    </tr>\n",
              "    <tr>\n",
              "      <th>11</th>\n",
              "      <td>223112</td>\n",
              "      <td>Sania</td>\n",
              "      <td>Mirza</td>\n",
              "      <td>Accounts</td>\n",
              "    </tr>\n",
              "  </tbody>\n",
              "</table>\n",
              "</div>"
            ],
            "text/plain": [
              "     EmpID FirstName     LastName    DeptName\n",
              "0   742866   Amitabh      Bacchan   Corporate\n",
              "1   349870      Rani    Mukherjee  Production\n",
              "2   865477   Madhuri      Dikshit       Sales\n",
              "3   239456  Shahrukh         Khan       Sales\n",
              "4   897889  Virender       Sehwag       Sales\n",
              "5   123980  Mahender        Dhoni  Production\n",
              "6   822134     Rahul       Dravid    Accounts\n",
              "7   997445  Jagmohan       Dalmia    Accounts\n",
              "8   989007    Sourav      Ganguly  Production\n",
              "9   299034     Rekha      Ganesan   Corporate\n",
              "10  546223   Narayan  Karthikeyan   Corporate\n",
              "11  223112     Sania        Mirza    Accounts"
            ]
          },
          "metadata": {
            "tags": []
          },
          "execution_count": 106
        }
      ]
    },
    {
      "cell_type": "code",
      "metadata": {
        "colab": {
          "base_uri": "https://localhost:8080/",
          "height": 266
        },
        "id": "Ht3swsP1AU9s",
        "outputId": "22a95d1f-a8d9-40fe-ff01-2952ae5fc586"
      },
      "source": [
        "# DISTINCT\r\n",
        "r('SELECT DISTINCT (JobDesc) FROM Emp')"
      ],
      "execution_count": 52,
      "outputs": [
        {
          "output_type": "execute_result",
          "data": {
            "text/html": [
              "<div>\n",
              "<style scoped>\n",
              "    .dataframe tbody tr th:only-of-type {\n",
              "        vertical-align: middle;\n",
              "    }\n",
              "\n",
              "    .dataframe tbody tr th {\n",
              "        vertical-align: top;\n",
              "    }\n",
              "\n",
              "    .dataframe thead th {\n",
              "        text-align: right;\n",
              "    }\n",
              "</style>\n",
              "<table border=\"1\" class=\"dataframe\">\n",
              "  <thead>\n",
              "    <tr style=\"text-align: right;\">\n",
              "      <th></th>\n",
              "      <th>JobDesc</th>\n",
              "    </tr>\n",
              "  </thead>\n",
              "  <tbody>\n",
              "    <tr>\n",
              "      <th>0</th>\n",
              "      <td>Executive</td>\n",
              "    </tr>\n",
              "    <tr>\n",
              "      <th>1</th>\n",
              "      <td>Manager</td>\n",
              "    </tr>\n",
              "    <tr>\n",
              "      <th>2</th>\n",
              "      <td>Clerk</td>\n",
              "    </tr>\n",
              "    <tr>\n",
              "      <th>3</th>\n",
              "      <td>Cus_Rep</td>\n",
              "    </tr>\n",
              "    <tr>\n",
              "      <th>4</th>\n",
              "      <td>Sr Manager</td>\n",
              "    </tr>\n",
              "    <tr>\n",
              "      <th>5</th>\n",
              "      <td>Director</td>\n",
              "    </tr>\n",
              "    <tr>\n",
              "      <th>6</th>\n",
              "      <td>Secretary</td>\n",
              "    </tr>\n",
              "  </tbody>\n",
              "</table>\n",
              "</div>"
            ],
            "text/plain": [
              "      JobDesc\n",
              "0   Executive\n",
              "1     Manager\n",
              "2       Clerk\n",
              "3     Cus_Rep\n",
              "4  Sr Manager\n",
              "5    Director\n",
              "6   Secretary"
            ]
          },
          "metadata": {
            "tags": []
          },
          "execution_count": 52
        }
      ]
    },
    {
      "cell_type": "code",
      "metadata": {
        "colab": {
          "base_uri": "https://localhost:8080/",
          "height": 80
        },
        "id": "Hig1NdHgAU6r",
        "outputId": "9ecb19fe-6adc-4482-b306-6cadfadcc51f"
      },
      "source": [
        "# COUNT\r\n",
        "r('SELECT COUNT(DISTINCT JobDesc) AS Count_of_job_descriptions FROM Emp')"
      ],
      "execution_count": 61,
      "outputs": [
        {
          "output_type": "execute_result",
          "data": {
            "text/html": [
              "<div>\n",
              "<style scoped>\n",
              "    .dataframe tbody tr th:only-of-type {\n",
              "        vertical-align: middle;\n",
              "    }\n",
              "\n",
              "    .dataframe tbody tr th {\n",
              "        vertical-align: top;\n",
              "    }\n",
              "\n",
              "    .dataframe thead th {\n",
              "        text-align: right;\n",
              "    }\n",
              "</style>\n",
              "<table border=\"1\" class=\"dataframe\">\n",
              "  <thead>\n",
              "    <tr style=\"text-align: right;\">\n",
              "      <th></th>\n",
              "      <th>Count_of_job_descriptions</th>\n",
              "    </tr>\n",
              "  </thead>\n",
              "  <tbody>\n",
              "    <tr>\n",
              "      <th>0</th>\n",
              "      <td>7</td>\n",
              "    </tr>\n",
              "  </tbody>\n",
              "</table>\n",
              "</div>"
            ],
            "text/plain": [
              "   Count_of_job_descriptions\n",
              "0                          7"
            ]
          },
          "metadata": {
            "tags": []
          },
          "execution_count": 61
        }
      ]
    },
    {
      "cell_type": "code",
      "metadata": {
        "colab": {
          "base_uri": "https://localhost:8080/",
          "height": 173
        },
        "id": "d0EZ7SiWDsoV",
        "outputId": "b840f0dc-1d33-4f10-abdc-9fa516bcdca4"
      },
      "source": [
        "# Wildcards\r\n",
        "r('SELECT FirstName, LastName from Emp where FirstName like \"Ma%\" OR LastName like \"Gan____\"')"
      ],
      "execution_count": 80,
      "outputs": [
        {
          "output_type": "execute_result",
          "data": {
            "text/html": [
              "<div>\n",
              "<style scoped>\n",
              "    .dataframe tbody tr th:only-of-type {\n",
              "        vertical-align: middle;\n",
              "    }\n",
              "\n",
              "    .dataframe tbody tr th {\n",
              "        vertical-align: top;\n",
              "    }\n",
              "\n",
              "    .dataframe thead th {\n",
              "        text-align: right;\n",
              "    }\n",
              "</style>\n",
              "<table border=\"1\" class=\"dataframe\">\n",
              "  <thead>\n",
              "    <tr style=\"text-align: right;\">\n",
              "      <th></th>\n",
              "      <th>FirstName</th>\n",
              "      <th>LastName</th>\n",
              "    </tr>\n",
              "  </thead>\n",
              "  <tbody>\n",
              "    <tr>\n",
              "      <th>0</th>\n",
              "      <td>Madhuri</td>\n",
              "      <td>Dikshit</td>\n",
              "    </tr>\n",
              "    <tr>\n",
              "      <th>1</th>\n",
              "      <td>Mahender</td>\n",
              "      <td>Dhoni</td>\n",
              "    </tr>\n",
              "    <tr>\n",
              "      <th>2</th>\n",
              "      <td>Sourav</td>\n",
              "      <td>Ganguly</td>\n",
              "    </tr>\n",
              "    <tr>\n",
              "      <th>3</th>\n",
              "      <td>Rekha</td>\n",
              "      <td>Ganesan</td>\n",
              "    </tr>\n",
              "  </tbody>\n",
              "</table>\n",
              "</div>"
            ],
            "text/plain": [
              "  FirstName LastName\n",
              "0   Madhuri  Dikshit\n",
              "1  Mahender    Dhoni\n",
              "2    Sourav  Ganguly\n",
              "3     Rekha  Ganesan"
            ]
          },
          "metadata": {
            "tags": []
          },
          "execution_count": 80
        }
      ]
    },
    {
      "cell_type": "code",
      "metadata": {
        "colab": {
          "base_uri": "https://localhost:8080/",
          "height": 173
        },
        "id": "QEUP02OfHBVD",
        "outputId": "2bf57bb3-1666-4951-c568-ff6b9af0b63e"
      },
      "source": [
        "# BETWEEN and IN\r\n",
        "r('SELECT EmpID, FirstName FROM Emp WHERE SALARY BETWEEN 20000 AND 50000 AND DeptID IN (30,40)')"
      ],
      "execution_count": 108,
      "outputs": [
        {
          "output_type": "execute_result",
          "data": {
            "text/html": [
              "<div>\n",
              "<style scoped>\n",
              "    .dataframe tbody tr th:only-of-type {\n",
              "        vertical-align: middle;\n",
              "    }\n",
              "\n",
              "    .dataframe tbody tr th {\n",
              "        vertical-align: top;\n",
              "    }\n",
              "\n",
              "    .dataframe thead th {\n",
              "        text-align: right;\n",
              "    }\n",
              "</style>\n",
              "<table border=\"1\" class=\"dataframe\">\n",
              "  <thead>\n",
              "    <tr style=\"text-align: right;\">\n",
              "      <th></th>\n",
              "      <th>EmpID</th>\n",
              "      <th>FirstName</th>\n",
              "    </tr>\n",
              "  </thead>\n",
              "  <tbody>\n",
              "    <tr>\n",
              "      <th>0</th>\n",
              "      <td>349870</td>\n",
              "      <td>Rani</td>\n",
              "    </tr>\n",
              "    <tr>\n",
              "      <th>1</th>\n",
              "      <td>822134</td>\n",
              "      <td>Rahul</td>\n",
              "    </tr>\n",
              "    <tr>\n",
              "      <th>2</th>\n",
              "      <td>989007</td>\n",
              "      <td>Sourav</td>\n",
              "    </tr>\n",
              "    <tr>\n",
              "      <th>3</th>\n",
              "      <td>223112</td>\n",
              "      <td>Sania</td>\n",
              "    </tr>\n",
              "  </tbody>\n",
              "</table>\n",
              "</div>"
            ],
            "text/plain": [
              "    EmpID FirstName\n",
              "0  349870      Rani\n",
              "1  822134     Rahul\n",
              "2  989007    Sourav\n",
              "3  223112     Sania"
            ]
          },
          "metadata": {
            "tags": []
          },
          "execution_count": 108
        }
      ]
    },
    {
      "cell_type": "code",
      "metadata": {
        "colab": {
          "base_uri": "https://localhost:8080/",
          "height": 421
        },
        "id": "cTkUpSVRHeLK",
        "outputId": "9256af6a-10ef-453b-cd43-342253741d01"
      },
      "source": [
        "# ORDER\r\n",
        "r('SELECT EmpID, FirstName, LastName from Emp ORDER BY FirstName ASC')"
      ],
      "execution_count": 107,
      "outputs": [
        {
          "output_type": "execute_result",
          "data": {
            "text/html": [
              "<div>\n",
              "<style scoped>\n",
              "    .dataframe tbody tr th:only-of-type {\n",
              "        vertical-align: middle;\n",
              "    }\n",
              "\n",
              "    .dataframe tbody tr th {\n",
              "        vertical-align: top;\n",
              "    }\n",
              "\n",
              "    .dataframe thead th {\n",
              "        text-align: right;\n",
              "    }\n",
              "</style>\n",
              "<table border=\"1\" class=\"dataframe\">\n",
              "  <thead>\n",
              "    <tr style=\"text-align: right;\">\n",
              "      <th></th>\n",
              "      <th>EmpID</th>\n",
              "      <th>FirstName</th>\n",
              "      <th>LastName</th>\n",
              "    </tr>\n",
              "  </thead>\n",
              "  <tbody>\n",
              "    <tr>\n",
              "      <th>0</th>\n",
              "      <td>742866</td>\n",
              "      <td>Amitabh</td>\n",
              "      <td>Bacchan</td>\n",
              "    </tr>\n",
              "    <tr>\n",
              "      <th>1</th>\n",
              "      <td>997445</td>\n",
              "      <td>Jagmohan</td>\n",
              "      <td>Dalmia</td>\n",
              "    </tr>\n",
              "    <tr>\n",
              "      <th>2</th>\n",
              "      <td>865477</td>\n",
              "      <td>Madhuri</td>\n",
              "      <td>Dikshit</td>\n",
              "    </tr>\n",
              "    <tr>\n",
              "      <th>3</th>\n",
              "      <td>123980</td>\n",
              "      <td>Mahender</td>\n",
              "      <td>Dhoni</td>\n",
              "    </tr>\n",
              "    <tr>\n",
              "      <th>4</th>\n",
              "      <td>546223</td>\n",
              "      <td>Narayan</td>\n",
              "      <td>Karthikeyan</td>\n",
              "    </tr>\n",
              "    <tr>\n",
              "      <th>5</th>\n",
              "      <td>822134</td>\n",
              "      <td>Rahul</td>\n",
              "      <td>Dravid</td>\n",
              "    </tr>\n",
              "    <tr>\n",
              "      <th>6</th>\n",
              "      <td>349870</td>\n",
              "      <td>Rani</td>\n",
              "      <td>Mukherjee</td>\n",
              "    </tr>\n",
              "    <tr>\n",
              "      <th>7</th>\n",
              "      <td>299034</td>\n",
              "      <td>Rekha</td>\n",
              "      <td>Ganesan</td>\n",
              "    </tr>\n",
              "    <tr>\n",
              "      <th>8</th>\n",
              "      <td>223112</td>\n",
              "      <td>Sania</td>\n",
              "      <td>Mirza</td>\n",
              "    </tr>\n",
              "    <tr>\n",
              "      <th>9</th>\n",
              "      <td>239456</td>\n",
              "      <td>Shahrukh</td>\n",
              "      <td>Khan</td>\n",
              "    </tr>\n",
              "    <tr>\n",
              "      <th>10</th>\n",
              "      <td>989007</td>\n",
              "      <td>Sourav</td>\n",
              "      <td>Ganguly</td>\n",
              "    </tr>\n",
              "    <tr>\n",
              "      <th>11</th>\n",
              "      <td>897889</td>\n",
              "      <td>Virender</td>\n",
              "      <td>Sehwag</td>\n",
              "    </tr>\n",
              "  </tbody>\n",
              "</table>\n",
              "</div>"
            ],
            "text/plain": [
              "     EmpID FirstName     LastName\n",
              "0   742866   Amitabh      Bacchan\n",
              "1   997445  Jagmohan       Dalmia\n",
              "2   865477   Madhuri      Dikshit\n",
              "3   123980  Mahender        Dhoni\n",
              "4   546223   Narayan  Karthikeyan\n",
              "5   822134     Rahul       Dravid\n",
              "6   349870      Rani    Mukherjee\n",
              "7   299034     Rekha      Ganesan\n",
              "8   223112     Sania        Mirza\n",
              "9   239456  Shahrukh         Khan\n",
              "10  989007    Sourav      Ganguly\n",
              "11  897889  Virender       Sehwag"
            ]
          },
          "metadata": {
            "tags": []
          },
          "execution_count": 107
        }
      ]
    },
    {
      "cell_type": "code",
      "metadata": {
        "colab": {
          "base_uri": "https://localhost:8080/",
          "height": 421
        },
        "id": "DwLAP5nrIlqR",
        "outputId": "d6797316-428d-4c98-cc1b-58e76804f514"
      },
      "source": [
        "# Single row string and arithmetic operation \r\n",
        "r('SELECT EmpID, concat(FirstName,\" \",LastName) AS Name, Salary+Salary*Comm AS Total_Pay FROM Emp ORDER BY Name')"
      ],
      "execution_count": 101,
      "outputs": [
        {
          "output_type": "execute_result",
          "data": {
            "text/html": [
              "<div>\n",
              "<style scoped>\n",
              "    .dataframe tbody tr th:only-of-type {\n",
              "        vertical-align: middle;\n",
              "    }\n",
              "\n",
              "    .dataframe tbody tr th {\n",
              "        vertical-align: top;\n",
              "    }\n",
              "\n",
              "    .dataframe thead th {\n",
              "        text-align: right;\n",
              "    }\n",
              "</style>\n",
              "<table border=\"1\" class=\"dataframe\">\n",
              "  <thead>\n",
              "    <tr style=\"text-align: right;\">\n",
              "      <th></th>\n",
              "      <th>EmpID</th>\n",
              "      <th>Name</th>\n",
              "      <th>Total_Pay</th>\n",
              "    </tr>\n",
              "  </thead>\n",
              "  <tbody>\n",
              "    <tr>\n",
              "      <th>0</th>\n",
              "      <td>742866</td>\n",
              "      <td>Amitabh Bacchan</td>\n",
              "      <td>55000.000075</td>\n",
              "    </tr>\n",
              "    <tr>\n",
              "      <th>1</th>\n",
              "      <td>997445</td>\n",
              "      <td>Jagmohan Dalmia</td>\n",
              "      <td>12239.999995</td>\n",
              "    </tr>\n",
              "    <tr>\n",
              "      <th>2</th>\n",
              "      <td>865477</td>\n",
              "      <td>Madhuri Dikshit</td>\n",
              "      <td>10199.999996</td>\n",
              "    </tr>\n",
              "    <tr>\n",
              "      <th>3</th>\n",
              "      <td>123980</td>\n",
              "      <td>Mahender Dhoni</td>\n",
              "      <td>9179.999996</td>\n",
              "    </tr>\n",
              "    <tr>\n",
              "      <th>4</th>\n",
              "      <td>546223</td>\n",
              "      <td>Narayan Karthikeyan</td>\n",
              "      <td>43600.000143</td>\n",
              "    </tr>\n",
              "    <tr>\n",
              "      <th>5</th>\n",
              "      <td>822134</td>\n",
              "      <td>Rahul Dravid</td>\n",
              "      <td>43199.999928</td>\n",
              "    </tr>\n",
              "    <tr>\n",
              "      <th>6</th>\n",
              "      <td>349870</td>\n",
              "      <td>Rani Mukherjee</td>\n",
              "      <td>26499.999966</td>\n",
              "    </tr>\n",
              "    <tr>\n",
              "      <th>7</th>\n",
              "      <td>299034</td>\n",
              "      <td>Rekha Ganesan</td>\n",
              "      <td>66599.999964</td>\n",
              "    </tr>\n",
              "    <tr>\n",
              "      <th>8</th>\n",
              "      <td>223112</td>\n",
              "      <td>Sania Mirza</td>\n",
              "      <td>25999.999978</td>\n",
              "    </tr>\n",
              "    <tr>\n",
              "      <th>9</th>\n",
              "      <td>239456</td>\n",
              "      <td>Shahrukh Khan</td>\n",
              "      <td>32100.000009</td>\n",
              "    </tr>\n",
              "    <tr>\n",
              "      <th>10</th>\n",
              "      <td>989007</td>\n",
              "      <td>Sourav Ganguly</td>\n",
              "      <td>20599.999987</td>\n",
              "    </tr>\n",
              "    <tr>\n",
              "      <th>11</th>\n",
              "      <td>897889</td>\n",
              "      <td>Virender Sehwag</td>\n",
              "      <td>15750.000011</td>\n",
              "    </tr>\n",
              "  </tbody>\n",
              "</table>\n",
              "</div>"
            ],
            "text/plain": [
              "     EmpID                 Name     Total_Pay\n",
              "0   742866      Amitabh Bacchan  55000.000075\n",
              "1   997445      Jagmohan Dalmia  12239.999995\n",
              "2   865477      Madhuri Dikshit  10199.999996\n",
              "3   123980       Mahender Dhoni   9179.999996\n",
              "4   546223  Narayan Karthikeyan  43600.000143\n",
              "5   822134         Rahul Dravid  43199.999928\n",
              "6   349870       Rani Mukherjee  26499.999966\n",
              "7   299034        Rekha Ganesan  66599.999964\n",
              "8   223112          Sania Mirza  25999.999978\n",
              "9   239456        Shahrukh Khan  32100.000009\n",
              "10  989007       Sourav Ganguly  20599.999987\n",
              "11  897889      Virender Sehwag  15750.000011"
            ]
          },
          "metadata": {
            "tags": []
          },
          "execution_count": 101
        }
      ]
    },
    {
      "cell_type": "code",
      "metadata": {
        "id": "GwyHmhziKWMe"
      },
      "source": [
        ""
      ],
      "execution_count": null,
      "outputs": []
    },
    {
      "cell_type": "markdown",
      "metadata": {
        "id": "_eP7zMIe5u-a"
      },
      "source": [
        "# Close_connection"
      ]
    },
    {
      "cell_type": "code",
      "metadata": {
        "id": "aHIsEzZT5u-a"
      },
      "source": [
        "DBConn.close()"
      ],
      "execution_count": null,
      "outputs": []
    }
  ]
}